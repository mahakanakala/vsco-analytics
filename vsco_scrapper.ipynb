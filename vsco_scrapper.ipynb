{
 "cells": [
  {
   "cell_type": "code",
   "execution_count": 38,
   "metadata": {},
   "outputs": [],
   "source": [
    "import requests\n",
    "from bs4 import BeautifulSoup\n",
    "from datetime import datetime\n",
    "from selenium import webdriver\n",
    "from selenium.webdriver.chrome.options import Options\n",
    "import pandas as pd\n",
    "import argparse\n"
   ]
  },
  {
   "cell_type": "code",
   "execution_count": 21,
   "metadata": {},
   "outputs": [],
   "source": [
    "parser = argparse.ArgumentParser(description=\"VSCO Gallery Scraper\")\n",
    "\n",
    "parser.add_argument(\"--vsco_username\", type=str, help=\"VSCO username\")\n",
    "\n",
    "args = parser.parse_args()\n",
    "\n",
    "vsco_username = args.vsco_username\n",
    "\n",
    "vsco_gallery_url = f'https://vsco.co/{vsco_username}/gallery'\n"
   ]
  },
  {
   "cell_type": "code",
   "execution_count": 71,
   "metadata": {},
   "outputs": [
    {
     "name": "stdout",
     "output_type": "stream",
     "text": [
      "Image 1 URL: https://vsco.co/maha-kanakala/media/64b81ab9579be2724e127938\n",
      "Image 2 URL: https://vsco.co/maha-kanakala/media/64a3396624f3f5171362ed4a\n",
      "Image 3 URL: https://vsco.co/maha-kanakala/media/648e1c44efe7e12daac45e22\n",
      "Image 4 URL: https://vsco.co/maha-kanakala/media/6484af30deab0943b4eeb1f0\n",
      "Image 5 URL: https://vsco.co/maha-kanakala/media/64734a713c741c4da38ffd6a\n",
      "Image 6 URL: https://vsco.co/maha-kanakala/media/64a4a7f27c340e7673b59f45\n",
      "Image 7 URL: https://vsco.co/maha-kanakala/media/64a3390a24f3f5171362ed49\n",
      "Image 8 URL: https://vsco.co/maha-kanakala/media/648512fcf291a15c60f4aaa0\n",
      "Image 9 URL: https://vsco.co/maha-kanakala/media/6473a7d283ff0e656b8a8869\n",
      "Image 10 URL: https://vsco.co/maha-kanakala/media/64a339e224f3f5171362ed4b\n",
      "Image 11 URL: https://vsco.co/maha-kanakala/media/649b296b6763bc061b6f0af5\n",
      "Image 12 URL: https://vsco.co/maha-kanakala/media/64852de2fc838763180c0934\n",
      "Image 13 URL: https://vsco.co/maha-kanakala/media/6483a2a825f72b7e70c75c3c\n",
      "Image 14 URL: https://vsco.co/maha-kanakala/media/646d080227e11c3200543442\n"
     ]
    }
   ],
   "source": [
    "from selenium import webdriver\n",
    "from bs4 import BeautifulSoup\n",
    "\n",
    "# vsco_gallery_url = 'https://vsco.co/maha-kanakala/gallery'\n",
    "\n",
    "driver = webdriver.Chrome()\n",
    "driver.get(vsco_gallery_url)\n",
    "\n",
    "\n",
    "page_source = driver.page_source\n",
    "\n",
    "driver.quit()\n",
    "\n",
    "soup = BeautifulSoup(page_source, 'html.parser')\n",
    "\n",
    "# Find all elements with class \"MediaThumbnail\" and extract the href links\n",
    "media_thumbnails = soup.find_all(class_=\"MediaThumbnail\")\n",
    "\n",
    "if media_thumbnails:\n",
    "    for i, media_thumbnail in enumerate(media_thumbnails, start=1):\n",
    "        a_tag = media_thumbnail.find('a')\n",
    "        if a_tag and 'href' in a_tag.attrs:\n",
    "            image_link = a_tag['href']\n",
    "            print(f\"Image {i} URL: https://vsco.co{image_link}\")\n",
    "else:\n",
    "    print(\"No media thumbnails found on the page.\")\n"
   ]
  },
  {
   "cell_type": "code",
   "execution_count": 44,
   "metadata": {},
   "outputs": [
    {
     "name": "stdout",
     "output_type": "stream",
     "text": [
      "{'Image Number': 1, 'Media ID': '64b81ab9579be2724e127938', 'Link': 'https://vsco.co/maha-kanakala/media/64b81ab9579be2724e127938'}\n",
      "{'Image Number': 2, 'Media ID': '64a3396624f3f5171362ed4a', 'Link': 'https://vsco.co/maha-kanakala/media/64a3396624f3f5171362ed4a'}\n",
      "{'Image Number': 3, 'Media ID': '648e1c44efe7e12daac45e22', 'Link': 'https://vsco.co/maha-kanakala/media/648e1c44efe7e12daac45e22'}\n",
      "{'Image Number': 4, 'Media ID': '6484af30deab0943b4eeb1f0', 'Link': 'https://vsco.co/maha-kanakala/media/6484af30deab0943b4eeb1f0'}\n",
      "{'Image Number': 5, 'Media ID': '64734a713c741c4da38ffd6a', 'Link': 'https://vsco.co/maha-kanakala/media/64734a713c741c4da38ffd6a'}\n",
      "{'Image Number': 6, 'Media ID': '64a4a7f27c340e7673b59f45', 'Link': 'https://vsco.co/maha-kanakala/media/64a4a7f27c340e7673b59f45'}\n",
      "{'Image Number': 7, 'Media ID': '64a3390a24f3f5171362ed49', 'Link': 'https://vsco.co/maha-kanakala/media/64a3390a24f3f5171362ed49'}\n",
      "{'Image Number': 8, 'Media ID': '648512fcf291a15c60f4aaa0', 'Link': 'https://vsco.co/maha-kanakala/media/648512fcf291a15c60f4aaa0'}\n",
      "{'Image Number': 9, 'Media ID': '6473a7d283ff0e656b8a8869', 'Link': 'https://vsco.co/maha-kanakala/media/6473a7d283ff0e656b8a8869'}\n",
      "{'Image Number': 10, 'Media ID': '64a339e224f3f5171362ed4b', 'Link': 'https://vsco.co/maha-kanakala/media/64a339e224f3f5171362ed4b'}\n",
      "{'Image Number': 11, 'Media ID': '649b296b6763bc061b6f0af5', 'Link': 'https://vsco.co/maha-kanakala/media/649b296b6763bc061b6f0af5'}\n",
      "{'Image Number': 12, 'Media ID': '64852de2fc838763180c0934', 'Link': 'https://vsco.co/maha-kanakala/media/64852de2fc838763180c0934'}\n",
      "{'Image Number': 13, 'Media ID': '6483a2a825f72b7e70c75c3c', 'Link': 'https://vsco.co/maha-kanakala/media/6483a2a825f72b7e70c75c3c'}\n",
      "{'Image Number': 14, 'Media ID': '646d080227e11c3200543442', 'Link': 'https://vsco.co/maha-kanakala/media/646d080227e11c3200543442'}\n"
     ]
    }
   ],
   "source": [
    "# vsco_gallery_url = 'https://vsco.co/maha-kanakala/gallery'\n",
    "\n",
    "driver = webdriver.Chrome() \n",
    "driver.get(vsco_gallery_url)\n",
    "page_source = driver.page_source\n",
    "\n",
    "driver.quit()\n",
    "\n",
    "soup = BeautifulSoup(page_source, 'html.parser')\n",
    "\n",
    "# Find all elements with class \"MediaThumbnail\" and extract the href links\n",
    "media_thumbnails = soup.find_all(class_=\"MediaThumbnail\")\n",
    "\n",
    "if media_thumbnails:\n",
    "    image_info_list = []\n",
    "    for i, media_thumbnail in enumerate(media_thumbnails, start=1):\n",
    "        a_tag = media_thumbnail.find('a')\n",
    "        if a_tag and 'href' in a_tag.attrs:\n",
    "            image_link = a_tag['href']\n",
    "            media_number = image_link.split('/')[-1]\n",
    "            image_info = {\n",
    "                'Image Number': i,\n",
    "                'Media ID': media_number,\n",
    "                'Link': f\"https://vsco.co{image_link}\"\n",
    "            }\n",
    "            image_info_list.append(image_info)\n",
    "            \n",
    "\n",
    "    # Create a DataFrame from the list of dictionaries\n",
    "    # df = pd.DataFrame(data)\n",
    "    # df.style.set_caption(vsco_gallery_url + \"Metadata\")\n",
    "    # print(df)\n",
    "    \n",
    "    # Print the array list of image information\n",
    "    for image_info in image_info_list:\n",
    "        print(image_info)\n",
    "    \n",
    "else:\n",
    "    print(\"No media thumbnails found on the page.\")\n"
   ]
  },
  {
   "cell_type": "markdown",
   "metadata": {},
   "source": [
    "### Visit each media link and retrive date, time, and filter\n",
    " - Use the array list `image_info_list` and iterate through the Link\n",
    " - Create new array list called `image_data_info` that appends to the `image_info_list`"
   ]
  },
  {
   "cell_type": "code",
   "execution_count": 68,
   "metadata": {},
   "outputs": [
    {
     "name": "stdout",
     "output_type": "stream",
     "text": [
      "{'Media ID': '64b81ab9579be2724e127938', 'Date Time': 'July 19, 20235:17pm', 'Filter Used': 'B1'}\n",
      "{'Media ID': '64a3396624f3f5171362ed4a', 'Date Time': 'July 03, 20239:11pm', 'Filter Used': 'B5'}\n",
      "{'Media ID': '648e1c44efe7e12daac45e22', 'Date Time': 'June 17, 20238:49pm', 'Filter Used': 'B1'}\n",
      "{'Media ID': '6484af30deab0943b4eeb1f0', 'Date Time': 'June 10, 20235:13pm', 'Filter Used': 'B5'}\n",
      "{'Media ID': '64734a713c741c4da38ffd6a', 'Date Time': 'May 28, 202312:34pm', 'Filter Used': 'B1'}\n",
      "{'Media ID': '64a4a7f27c340e7673b59f45', 'Date Time': 'July 04, 202311:15pm', 'Filter Used': 'X1'}\n",
      "{'Media ID': '64a3390a24f3f5171362ed49', 'Date Time': 'July 03, 20239:09pm', 'Filter Used': 'B1'}\n",
      "{'Media ID': '648512fcf291a15c60f4aaa0', 'Date Time': 'June 11, 202312:19am', 'Filter Used': 'B5'}\n",
      "{'Media ID': '6473a7d283ff0e656b8a8869', 'Date Time': 'May 28, 20237:13pm', 'Filter Used': 'B1'}\n",
      "{'Media ID': '64a339e224f3f5171362ed4b', 'Date Time': 'July 03, 20239:13pm', 'Filter Used': 'B5'}\n",
      "{'Media ID': '649b296b6763bc061b6f0af5', 'Date Time': 'June 27, 20236:24pm', 'Filter Used': 'B5'}\n",
      "{'Media ID': '64852de2fc838763180c0934', 'Date Time': 'June 11, 20232:13am', 'Filter Used': 'B5'}\n",
      "{'Media ID': '6483a2a825f72b7e70c75c3c', 'Date Time': 'June 09, 202310:07pm', 'Filter Used': 'B1'}\n",
      "{'Media ID': '646d080227e11c3200543442', 'Date Time': 'May 23, 20236:37pm', 'Filter Used': 'B1'}\n"
     ]
    }
   ],
   "source": [
    "def scrape_individual_image(url):\n",
    "    response = requests.get(url)\n",
    "    if response.status_code == 200:\n",
    "        soup = BeautifulSoup(response.content, 'html.parser')\n",
    "        date_time_elem = soup.find('p', class_='css-1phzhuo e1u3t41f0').find('time')\n",
    "        filter_used_elem = soup.find('p', class_='css-1phzhuo e1u3t41f0').find('span', class_='ml16')\n",
    "\n",
    "        if date_time_elem and filter_used_elem:\n",
    "            date_time = date_time_elem.get_text()\n",
    "            filter_used = filter_used_elem.get_text()\n",
    "            return {\n",
    "                'date_time': date_time,\n",
    "                'filter_used': filter_used\n",
    "            }\n",
    "        else:\n",
    "            return None\n",
    "    else:\n",
    "        return None\n",
    "\n",
    "# New array list defined\n",
    "image_data_list = []\n",
    "\n",
    "# Iterate through each image in the image_info_list and scrape individual image data by going through all links\n",
    "for image_info in image_info_list:\n",
    "    url = image_info['Link']\n",
    "    media_number = image_info['Media ID']\n",
    "    \n",
    "    image_info_data = scrape_individual_image(url)\n",
    "    \n",
    "    if image_info_data:\n",
    "        date_time = image_info_data['date_time']\n",
    "        filter_used = image_info_data['filter_used']\n",
    "        image_data = {\n",
    "            'Media ID': media_number,\n",
    "            'Date Time': date_time,\n",
    "            'Filter Used': filter_used\n",
    "        }\n",
    "        image_data_list.append(image_data)\n",
    "    else:\n",
    "        print(f\"Unable to scrape data for Image - Media ID {media_number}\")\n",
    "\n",
    "# Print the array list of data for each image\n",
    "for image_data in image_data_list:\n",
    "    print(image_data)\n"
   ]
  },
  {
   "cell_type": "markdown",
   "metadata": {},
   "source": [
    "### Convert to a dataframe to prepare for visualization"
   ]
  },
  {
   "cell_type": "code",
   "execution_count": 69,
   "metadata": {},
   "outputs": [
    {
     "data": {
      "text/html": [
       "<div>\n",
       "<style scoped>\n",
       "    .dataframe tbody tr th:only-of-type {\n",
       "        vertical-align: middle;\n",
       "    }\n",
       "\n",
       "    .dataframe tbody tr th {\n",
       "        vertical-align: top;\n",
       "    }\n",
       "\n",
       "    .dataframe thead th {\n",
       "        text-align: right;\n",
       "    }\n",
       "</style>\n",
       "<table border=\"1\" class=\"dataframe\">\n",
       "  <thead>\n",
       "    <tr style=\"text-align: right;\">\n",
       "      <th></th>\n",
       "      <th>Media ID</th>\n",
       "      <th>Date Time</th>\n",
       "      <th>Filter Used</th>\n",
       "    </tr>\n",
       "  </thead>\n",
       "  <tbody>\n",
       "    <tr>\n",
       "      <th>0</th>\n",
       "      <td>64b81ab9579be2724e127938</td>\n",
       "      <td>July 19, 20235:17pm</td>\n",
       "      <td>B1</td>\n",
       "    </tr>\n",
       "    <tr>\n",
       "      <th>1</th>\n",
       "      <td>64a3396624f3f5171362ed4a</td>\n",
       "      <td>July 03, 20239:11pm</td>\n",
       "      <td>B5</td>\n",
       "    </tr>\n",
       "    <tr>\n",
       "      <th>2</th>\n",
       "      <td>648e1c44efe7e12daac45e22</td>\n",
       "      <td>June 17, 20238:49pm</td>\n",
       "      <td>B1</td>\n",
       "    </tr>\n",
       "    <tr>\n",
       "      <th>3</th>\n",
       "      <td>6484af30deab0943b4eeb1f0</td>\n",
       "      <td>June 10, 20235:13pm</td>\n",
       "      <td>B5</td>\n",
       "    </tr>\n",
       "    <tr>\n",
       "      <th>4</th>\n",
       "      <td>64734a713c741c4da38ffd6a</td>\n",
       "      <td>May 28, 202312:34pm</td>\n",
       "      <td>B1</td>\n",
       "    </tr>\n",
       "  </tbody>\n",
       "</table>\n",
       "</div>"
      ],
      "text/plain": [
       "                   Media ID            Date Time Filter Used\n",
       "0  64b81ab9579be2724e127938  July 19, 20235:17pm          B1\n",
       "1  64a3396624f3f5171362ed4a  July 03, 20239:11pm          B5\n",
       "2  648e1c44efe7e12daac45e22  June 17, 20238:49pm          B1\n",
       "3  6484af30deab0943b4eeb1f0  June 10, 20235:13pm          B5\n",
       "4  64734a713c741c4da38ffd6a  May 28, 202312:34pm          B1"
      ]
     },
     "execution_count": 69,
     "metadata": {},
     "output_type": "execute_result"
    }
   ],
   "source": [
    "df = pd.DataFrame(image_data_list)\n",
    "\n",
    "df.head()"
   ]
  },
  {
   "cell_type": "markdown",
   "metadata": {},
   "source": [
    "###"
   ]
  }
 ],
 "metadata": {
  "kernelspec": {
   "display_name": "Python 3.11.1 ('.venv': venv)",
   "language": "python",
   "name": "python3"
  },
  "language_info": {
   "codemirror_mode": {
    "name": "ipython",
    "version": 3
   },
   "file_extension": ".py",
   "mimetype": "text/x-python",
   "name": "python",
   "nbconvert_exporter": "python",
   "pygments_lexer": "ipython3",
   "version": "3.11.1"
  },
  "orig_nbformat": 4,
  "vscode": {
   "interpreter": {
    "hash": "5111a176fb4dc9c5069ec7dbeba33d4e5743ff4c95e2aa2142eaac380c460730"
   }
  }
 },
 "nbformat": 4,
 "nbformat_minor": 2
}
